{
 "cells": [
  {
   "cell_type": "code",
   "execution_count": 1,
   "metadata": {},
   "outputs": [
    {
     "name": "stdout",
     "output_type": "stream",
     "text": [
      "Hello World\n"
     ]
    }
   ],
   "source": [
    "print('Hello World')"
   ]
  },
  {
   "cell_type": "code",
   "execution_count": 2,
   "metadata": {},
   "outputs": [],
   "source": [
    "import bs4 as BeautifulSoup\n",
    "import urllib.request "
   ]
  },
  {
   "cell_type": "code",
   "execution_count": 4,
   "metadata": {},
   "outputs": [],
   "source": [
    "# Fetching the content from the URL\n",
    "fetched_data = urllib.request.urlopen('https://en.wikipedia.org/wiki/20th_century')\n",
    "\n",
    "article_read = fetched_data.read()\n",
    "\n",
    "# article_read"
   ]
  },
  {
   "cell_type": "code",
   "execution_count": 5,
   "metadata": {},
   "outputs": [],
   "source": [
    "# Parsing the URL content and storing in a variable\n",
    "article_parsed = BeautifulSoup.BeautifulSoup(article_read,'html.parser')"
   ]
  },
  {
   "cell_type": "code",
   "execution_count": 6,
   "metadata": {},
   "outputs": [],
   "source": [
    "# Returning <p> tags\n",
    "paragraphs = article_parsed.find_all('p')"
   ]
  },
  {
   "cell_type": "code",
   "execution_count": 7,
   "metadata": {},
   "outputs": [
    {
     "data": {
      "text/plain": [
       "'The 20th (twentieth) century began on\\nJanuary 1, 1901,[1] and ended on December 31, 2000.[2] It was the tenth and final century of the 2nd millennium. The 20th century was dominated by a chain of events that heralded significant changes in world history as to redefine the era: Spanish flu pandemic, World War I and World War II, nuclear weapons, nuclear power and space exploration, nationalism and decolonization, the Cold War and post-Cold War conflicts.\\nThe 20th century saw a massive transformation of the world order: global total fertility rates, sea level rise and ecological collapses increased; the resulting competition for land and dwindling resources accelerated deforestation, water depletion, and the mass extinction of many of the world\\'s species and decline in the population of others; consequences which are now being dealt with. Man-made global warming resulted in more extreme weather conditions; the average global temperature on Earth has increased by a little more than 1° Celsius (2° Fahrenheit) since 1880; Two-thirds of the warming has occurred since 1975, at a rate of roughly 0.15–0.20\\xa0°C per decade.[3]\\nAdditional themes include intergovernmental organizations and cultural homogenization through developments in emerging transportation and communications technology; poverty reduction and world population growth, awareness of environmental degradation, ecological extinction;[4][5] and the birth of the Digital Revolution. Automobiles, airplanes and the use of home appliances became common, as did video and audio recording. Great advances in power generation, communication and medical technology allowed for near-instantaneous worldwide computer communication and genetic modification of life.\\nThe repercussions of the World Wars, Cold War and globalization crafted a world where people are more united than any previous time in human history, as exemplified by the establishment of international law, international aid, and the United Nations. The Marshall Plan—which spent $13 billion ($100\\xa0billion in 2019 US dollars)[6] to rebuild the economies of post-war nations—launched \"Pax Americana\". Throughout the latter half of the 20th century, the rivalry between the United States and the Soviet Union created enormous tensions around the world which manifested in various armed proxy regional conflicts and the omnipresent danger of nuclear proliferation. The dissolution of the Soviet Union in 1991 after the collapse of its European alliance was heralded by the West as the end of communism, though by the century\\'s end roughly one in six people on Earth lived under communist rule, mostly in China which was rapidly rising as an economic and geopolitical power. The 20th century ended with the United States as the sole preeminent military power.\\nIt took over two-hundred thousand years of modern human history and 6 million years of human evolution up to 1804 for the world\\'s population to reach 1 billion;[7] world population reached an estimated 2 billion in 1927; by late 1999, the global population reached 6 billion, with over half being concentrated in East, South and Southeast Asia.[8][9][10] Global literacy averaged 80%. Penicillin and other medical breakthroughs combined with the World Health Organization\\'s global campaigns for the eradication of smallpox and other diseases responsible for more human deaths than all wars and natural disasters combined yielded unprecedented results; smallpox now only existed in labs.[11] Machines were being utilized in all areas of production, feeding an increasingly intricate national supply chain, meaning for the first time in history, mankind was no longer constrained by how much it could produce, but rather by peoples\\' willingness to consume. Trade improvements reversed the limited set of food-producing techniques used since the Neolithic period, greatly enhancing the diversity of foods available, resulting in an upturn in the quality of human nutrition. Until the early 19th century, life expectancy from birth was about thirty in most populations; global lifespan-averages exceeded 40 years for the first time in history, with over half achieving 70 or more years (three decades longer than a century earlier).[12]\\nThe 20th (twentieth) century began on\\nJanuary 1, 1901,[13] and ended on December 31, 2000.[14] The term is often used erroneously to refer to \"the 1900s\", the century between January 1, 1900 and December 31, 1999. It was the tenth and final century of the 2nd millennium. Unlike most century years, the year 2000 was a leap year, and the second century leap year in the Gregorian calendar after 1600.\\nThe century had the first global-scale total wars between world powers across continents and oceans in World War I and World War II. Nationalism became a major political issue in the world in the 20th century, acknowledged in international law along with the right of nations to self-determination, official decolonization in the mid-century, and related regional conflicts.\\nThe century saw a major shift in the way that many people lived, with changes in politics, ideology, economics, society, culture, science, technology, and medicine. The 20th century may have seen more technological and scientific progress than all the other centuries combined since the dawn of civilization. Terms like nationalism, globalism, environmentalism, ideology, world war, genocide, and nuclear war entered common usage. Scientific discoveries, such as the theory of relativity and quantum physics, profoundly changed the foundational models of physical science, forcing scientists to realize that the universe was more complex than previously believed, and dashing the hopes (or fears) at the end of the 19th century that the last few details of scientific knowledge were about to be filled in. It was a century that started with horses, simple automobiles, and freighters but ended with high-speed rail, cruise ships, global commercial air travel and the Space Shuttle. Horses and other pack animals, every society\\'s basic form of personal transportation for thousands of years, were replaced by automobiles and buses within a few decades. These developments were made possible by the exploitation of fossil fuel resources, which offered energy in an easily portable form, but also caused concern about pollution and long-term impact on the environment. Humans explored space for the first time, taking their first footsteps on the Moon.\\nMass media, telecommunications, and information technology (especially computers, paperback books, public education, and the Internet) made the world\\'s knowledge more widely available. Advancements in medical technology also improved the health of many people: the global life expectancy increased from 35 years to 65 years. Rapid technological advancements, however, also allowed warfare to reach unprecedented levels of destruction. World War II alone killed over 60 million people, while nuclear weapons gave humankind the means to annihilate itself in a short time. However, these same wars resulted in the destruction of the imperial system. For the first time in human history, empires and their wars of expansion and colonization ceased to be a factor in international affairs, resulting in a far more globalized and cooperative world. The last time major powers clashed openly was in 1945, and since then, violence has seen an unprecedented decline.[15]\\nThe world also became more culturally homogenized than ever with developments in transportation and communications technology, popular music and other influences of Western culture, international corporations, and what was arguably a truly global economy by the end of the 20th century.\\nTechnological advancements during World War I changed the way war was fought, as new inventions such as tanks, chemical weapons, and aircraft modified tactics and strategy. After more than four years of trench warfare in Western Europe, and 20 million dead, the powers that had formed the Triple Entente (France, Britain, and Russia, later replaced by the United States and joined by Italy and Romania) emerged victorious over the Central Powers (Germany, Austria-Hungary, the Ottoman Empire and Bulgaria). In addition to annexing many of the colonial possessions of the vanquished states, the Triple Entente exacted punitive restitution payments from them, plunging Germany in particular into economic depression. The Austro-Hungarian and Ottoman empires were dismantled at the war\\'s conclusion. The Russian Revolution resulted in the overthrow of the Tsarist regime of Nicholas II and the onset of the Russian Civil War. The victorious Bolsheviks then established the Soviet Union, the world\\'s first communist state.\\nAt the beginning of the period, the British Empire was the world\\'s most powerful nation,[17] having acted as the world\\'s policeman for the past century. Fascism, a movement which grew out of post-war angst and which accelerated during the Great Depression of the 1930s, gained momentum in Italy, Germany, and Spain in the 1920s and 1930s, culminating in World War II, sparked by Nazi Germany\\'s aggressive expansion at the expense of its neighbors. Meanwhile, Japan had rapidly transformed itself into a technologically advanced industrial power and, along with Germany and Italy, formed the Axis powers. Japan\\'s military expansionism in East Asia and the Pacific Ocean brought it into conflict with the United States, culminating in a surprise attack which drew the US into World War II. After some years of dramatic military success, Germany was defeated in 1945, having been invaded by the Soviet Union and Poland from the East and by the United States, the United Kingdom, Canada, and France from the West. After the victory of the Allies in Europe, the war in Asia ended with the Soviet invasion of Manchuria and the dropping of two atomic bombs on Japan by the US, the first nation to develop nuclear weapons and the only one to use them in warfare. In total, World War II left some 60 million people dead. After the war, Germany was occupied and divided between the Western powers and the Soviet Union. East Germany and the rest of Eastern Europe became Soviet puppet states under communist rule. Western Europe was rebuilt with the aid of the American Marshall Plan, resulting in a major post-war economic boom, and many of the affected nations became close allies of the United States.\\nWith the Axis defeated and Britain and France rebuilding, the United States and the Soviet Union were left standing as the world\\'s only superpowers. Allies during the war, they soon became hostile to one another as their competing ideologies of communism and democratic capitalism proliferated in Europe, which became divided by the Iron Curtain and the Berlin Wall. They formed competing military alliances (NATO and the Warsaw Pact) which engaged in a decades-long standoff known as the Cold War. The period was marked by a new arms race as the USSR became the second nation to develop nuclear weapons, which were produced by both sides in sufficient numbers to end most human life on the planet had a large-scale nuclear exchange ever occurred. Mutually assured destruction is credited by many historians as having prevented such an exchange, each side being unable to strike first at the other without ensuring an equally devastating retaliatory strike. Unable to engage one another directly, the conflict played out in a series of proxy wars around the world—particularly in China, Korea, Cuba, Vietnam, and Afghanistan—as the USSR sought to export communism while the US attempted to contain it. The technological competition between the two sides led to substantial investment in research and development which produced innovations that reached far beyond the battlefield, such as space exploration and the Internet.\\nIn the latter half of the century, most of the European-colonized world in Africa and Asia gained independence in a process of decolonization. Meanwhile, globalization opened the door for several nations to exert a strong influence over many world affairs. The US\\'s global military presence spread American culture around the world with the advent of the Hollywood motion picture industry, Broadway, rock and roll, pop music, fast food, big-box stores, and the hip-hop lifestyle. Britain also continued to influence world culture, including the \"British Invasion\" into American music, leading many rock bands from other countries (such as Swedish ABBA) to sing in English. After the Soviet Union collapsed under internal pressure in 1991, most of the communist governments it had supported around the world were dismantled—with the notable exceptions of China, North Korea, Cuba, Vietnam, and Laos—followed by awkward transitions into market economies.\\nFollowing World War II, the United Nations, successor to the League of Nations, was established as an international forum in which the world\\'s nations could discuss issues diplomatically. It enacted resolutions on such topics as the conduct of warfare, environmental protection, international sovereignty, and human rights. Peacekeeping forces consisting of troops provided by various countries, with various United Nations and other aid agencies, helped to relieve famine, disease, and poverty, and to suppress some local armed conflicts. Europe slowly united, economically and, in some ways, politically, to form the European Union, which consisted of 15 European countries by the end of the 20th century.\\nDue to continuing industrialization and expanding trade, many significant changes of the century were, directly or indirectly, economic and technological in nature. Inventions such as the light bulb, the automobile, and the telephone in the late 19th century, followed by supertankers, airliners, motorways, radio, television, antibiotics, nuclear power, frozen food, computers and microcomputers, the Internet, and mobile telephones affected people\\'s quality of life across the developed world. Scientific research, engineering professionalization and technological development—much of it motivated by the Cold War arms race—drove changes in everyday life.\\nAt the beginning of the century, strong discrimination based on race and sex was significant in general society. Although the Atlantic slave trade had ended in the 19th century, the fight for equality for non-white people in the white-dominated societies of North America, Europe, and South Africa continued. During the century, the social taboo of sexism fell. By the end of the 20th century, women had the same legal rights as men in many parts of the world, and racism had come to be seen as abhorrent.[18] Attitudes towards homosexuality also began to change in the later part of the century.\\nCommunications and information technology, transportation technology, and medical advances had radically altered daily lives. Europe appeared to be at a sustainable peace for the first time in recorded history. The people of the Indian subcontinent, a sixth of the world population at the end of the 20th century, had attained an indigenous independence for the first time in centuries. China, an ancient nation comprising a fifth of the world population, was finally open to the world, creating a new state after the near-complete destruction of the old cultural order. With the end of colonialism and the Cold War, nearly a billion people in Africa were left in new nation states after centuries of foreign domination.\\nThe world was undergoing its second major period of globalization; the first, which started in the 18th century, having been terminated by World War I. Since the US was in a dominant position, a major part of the process was Americanization. The influence of China and India was also rising, as the world\\'s largest populations were rapidly integrating with the world economy.\\nTerrorism, dictatorship, and the spread of nuclear weapons were pressing global issues. The world was still blighted by small-scale wars and other violent conflicts, fueled by competition over resources and by ethnic conflicts.\\nDisease threatened to destabilize many regions of the world. New viruses such as the West Nile virus continued to spread. Malaria and other diseases affected large populations. Millions were infected with HIV, the virus which causes AIDS. The virus was becoming an epidemic in southern Africa.\\nBased on research done by climate scientists, the majority of the scientific community consider that in the long term environmental problems may threaten the planet\\'s habitability.[19] One argument is that of global warming occurring due to human-caused emission of greenhouse gases, particularly carbon dioxide produced by the burning of fossil fuels.[20] This prompted many nations to negotiate and sign the Kyoto treaty, which set mandatory limits on carbon dioxide emissions.\\nWorld population increased from about 1.6\\xa0billion people in 1901 to 6.1\\xa0billion at the century\\'s end.[21][22]\\nThe number of people killed during the century by government actions was in the hundreds of millions. This includes deaths caused by wars, genocide, politicide and mass murders. The deaths from acts of war during the two world wars alone have been estimated at between 50 and 80 million.[citation needed] Political scientist Rudolph Rummel estimated 262,000,000 deaths caused by democide, which excludes those killed in war battles, civilians unintentionally killed in war and killings of rioting mobs.[23] According to Charles Tilly, \"Altogether, about 100 million people died as a direct result of action by organized military units backed by one government or another over the course of the century. Most likely a comparable number of civilians died of war-induced disease and other indirect effects.\"[24] It is estimated that approximately 70 million Europeans died through war, violence and famine between 1914 and 1945.[25]\\nThe invention of music recording technologies such as the phonograph record, and dissemination technologies such as radio broadcasting, massively expanded the audience for music. Prior to the 20th century, music was generally only experienced in live performances. Many new genres of music were established during the 20th century.\\nPopular music artists of the 20th century include: Béla Bartók, Carl Orff, Benjamin Britten, Aaron Copland, George Gershwin, Ernesto Lecuona, Gustav Mahler, Sergei Prokofiev, Sergei Rachmaninoff, Maurice Ravel, Arnold Schoenberg, Dmitri Shostakovich, Igor Stravinsky, Richard Strauss, ABBA, The Beach Boys, The Beatles, Harry Belafonte, Chuck Berry, James Brown, Cher, Leonard Cohen, Bob Dylan, Aretha Franklin, Jimi Hendrix, Michael Jackson, Prince, Elton John, Led Zeppelin, Bee Gees, Madonna, Bob Marley, Black Sabbath, Metallica, The Smiths, Bon Jovi, Duran Duran, David Bowie, Nirvana, The Notorious B.I.G., Pink Floyd, Elvis Presley, The Rolling Stones, Tupac Shakur, Frank Sinatra, Barbra Streisand, Stevie Wonder, Louis Armstrong, Miles Davis, Duke Ellington, Ella Fitzgerald, Charlie Parker, Robert Johnson, Amr Diab, Fairuz, Abdel Halim Hafez, Umm Kulthum, and many more.\\nFilm as an artistic medium was created in the 20th century. The first modern movie theatre was established in Pittsburgh in 1905.[31] Hollywood developed as the center of American film production. While the first films were in black and white, technicolor was developed in the 1920s to allow for color films. Sound films were developed, with the first full-length feature film, The Jazz Singer, released in 1927. The Academy Awards were established in 1929. Animation was also developed in the 1920s, with the first full-length cel animated feature film Snow White and the Seven Dwarfs, released in 1937. Computer-generated imagery was developed in the 1980s, with the first full-length CGI-animated film Toy Story was released in 1995.\\nVideo games—due to the great technological steps forward in computing since the second post-war period—are the new form of entertainment emerged in the 20th century alongside films.\\nMultiple new fields of mathematics were developed in the 20th century. In the first part of the 20th century, measure theory, functional analysis, and topology were established, and significant developments were made in fields such as abstract algebra and probability. The development of set theory and formal logic led to Gödel\\'s incompleteness theorems.\\nLater in the 20th century, the development of computers led to the establishment of a theory of computation.[35] Other computationally-intense results include the study of fractals[36] and a proof of the four color theorem in 1976.[37]\\nOne of the prominent traits of the 20th century was the dramatic growth of technology. Organized research and practice of science led to advancement in the fields of communication, electronics, engineering, travel, medicine, and war.\\nA technological revolution began in the late 20th century, variously called the Digital Revolution, the information revolution,[42][43][44] the electronics revolution,[45] the microelectronic revolution,[46] the Information Age,[47] the silicon revolution,[48][49] the Silicon Age,[48][49][50] and/or the third industrial revolution.[51]\\n'"
      ]
     },
     "execution_count": 7,
     "metadata": {},
     "output_type": "execute_result"
    }
   ],
   "source": [
    "article_content = ''\n",
    "\n",
    "# Looping through the paragraphs and adding them to the variable\n",
    "for p in paragraphs:  \n",
    "    article_content += p.text\n",
    "\n",
    "article_content"
   ]
  },
  {
   "cell_type": "code",
   "execution_count": null,
   "metadata": {},
   "outputs": [],
   "source": []
  }
 ],
 "metadata": {
  "kernelspec": {
   "display_name": "Python 3",
   "language": "python",
   "name": "python3"
  },
  "language_info": {
   "codemirror_mode": {
    "name": "ipython",
    "version": 3
   },
   "file_extension": ".py",
   "mimetype": "text/x-python",
   "name": "python",
   "nbconvert_exporter": "python",
   "pygments_lexer": "ipython3",
   "version": "3.7.6"
  }
 },
 "nbformat": 4,
 "nbformat_minor": 4
}
