{
 "cells": [
  {
   "cell_type": "code",
   "execution_count": 1,
   "metadata": {},
   "outputs": [
    {
     "output_type": "stream",
     "name": "stdout",
     "text": [
      "Requirement already satisfied: gensim==3.8.3 in /Users/snehalyelkar/Documents/development/python/text-summariser/.text-summariser-env/lib/python3.8/site-packages (3.8.3)\n",
      "Requirement already satisfied: numpy>=1.11.3 in /Users/snehalyelkar/Documents/development/python/text-summariser/.text-summariser-env/lib/python3.8/site-packages (from gensim==3.8.3) (1.20.3)\n",
      "Requirement already satisfied: scipy>=0.18.1 in /Users/snehalyelkar/Documents/development/python/text-summariser/.text-summariser-env/lib/python3.8/site-packages (from gensim==3.8.3) (1.6.3)\n",
      "Requirement already satisfied: smart-open>=1.8.1 in /Users/snehalyelkar/Documents/development/python/text-summariser/.text-summariser-env/lib/python3.8/site-packages (from gensim==3.8.3) (5.1.0)\n",
      "Requirement already satisfied: six>=1.5.0 in /Users/snehalyelkar/Documents/development/python/text-summariser/.text-summariser-env/lib/python3.8/site-packages (from gensim==3.8.3) (1.16.0)\n",
      "\u001b[33mWARNING: You are using pip version 21.0.1; however, version 21.1.2 is available.\n",
      "You should consider upgrading via the '/Users/snehalyelkar/Documents/development/python/text-summariser/.text-summariser-env/bin/python -m pip install --upgrade pip' command.\u001b[0m\n"
     ]
    }
   ],
   "source": [
    "!pip install gensim==3.8.3"
   ]
  },
  {
   "cell_type": "code",
   "execution_count": 2,
   "metadata": {},
   "outputs": [
    {
     "output_type": "stream",
     "name": "stdout",
     "text": [
      "Requirement already satisfied: summa in /Users/snehalyelkar/Documents/development/python/text-summariser/.text-summariser-env/lib/python3.8/site-packages (1.2.0)\n",
      "Requirement already satisfied: scipy>=0.19 in /Users/snehalyelkar/Documents/development/python/text-summariser/.text-summariser-env/lib/python3.8/site-packages (from summa) (1.6.3)\n",
      "Requirement already satisfied: numpy<1.23.0,>=1.16.5 in /Users/snehalyelkar/Documents/development/python/text-summariser/.text-summariser-env/lib/python3.8/site-packages (from scipy>=0.19->summa) (1.20.3)\n",
      "\u001b[33mWARNING: You are using pip version 21.0.1; however, version 21.1.2 is available.\n",
      "You should consider upgrading via the '/Users/snehalyelkar/Documents/development/python/text-summariser/.text-summariser-env/bin/python -m pip install --upgrade pip' command.\u001b[0m\n"
     ]
    }
   ],
   "source": [
    "!pip install summa"
   ]
  },
  {
   "cell_type": "code",
   "execution_count": 3,
   "metadata": {},
   "outputs": [
    {
     "output_type": "stream",
     "name": "stdout",
     "text": [
      "Requirement already satisfied: bs4 in /Users/snehalyelkar/Documents/development/python/text-summariser/.text-summariser-env/lib/python3.8/site-packages (0.0.1)\n",
      "Requirement already satisfied: beautifulsoup4 in /Users/snehalyelkar/Documents/development/python/text-summariser/.text-summariser-env/lib/python3.8/site-packages (from bs4) (4.9.3)\n",
      "Requirement already satisfied: soupsieve>1.2 in /Users/snehalyelkar/Documents/development/python/text-summariser/.text-summariser-env/lib/python3.8/site-packages (from beautifulsoup4->bs4) (2.2.1)\n",
      "\u001b[33mWARNING: You are using pip version 21.0.1; however, version 21.1.2 is available.\n",
      "You should consider upgrading via the '/Users/snehalyelkar/Documents/development/python/text-summariser/.text-summariser-env/bin/python -m pip install --upgrade pip' command.\u001b[0m\n"
     ]
    }
   ],
   "source": [
    "!pip install bs4"
   ]
  },
  {
   "cell_type": "code",
   "execution_count": 4,
   "metadata": {},
   "outputs": [],
   "source": [
    "# Wikipedia scraper\n",
    "import bs4 as bs  \n",
    "import urllib.request  \n",
    "import re\n",
    "import nltk\n",
    "from gensim.summarization import summarize as gensim_summarize\n",
    "from summa.summarizer import summarize as summa_summarize"
   ]
  },
  {
   "cell_type": "code",
   "execution_count": 5,
   "metadata": {},
   "outputs": [],
   "source": [
    "import ssl\n",
    "ssl._create_default_https_context = ssl._create_unverified_context"
   ]
  },
  {
   "cell_type": "code",
   "execution_count": 6,
   "metadata": {},
   "outputs": [],
   "source": [
    "data = urllib.request.urlopen('https://en.wikipedia.org/wiki/A_Song_of_Ice_and_Fire')  "
   ]
  },
  {
   "cell_type": "code",
   "execution_count": 7,
   "metadata": {},
   "outputs": [],
   "source": [
    "article = data.read()\n",
    "\n",
    "parsed_article = bs.BeautifulSoup(article,'lxml')\n",
    "\n",
    "paragraphs = parsed_article.find_all('p')"
   ]
  },
  {
   "cell_type": "code",
   "execution_count": 8,
   "metadata": {},
   "outputs": [],
   "source": [
    "article_text = ''\n",
    "\n",
    "for p in paragraphs:  \n",
    "    article_text += p.text"
   ]
  },
  {
   "cell_type": "code",
   "execution_count": 9,
   "metadata": {},
   "outputs": [
    {
     "output_type": "stream",
     "name": "stdout",
     "text": [
      "Gensim Summary: \nThe revised finished manuscript for A Game of Thrones was 1088 pages long (without the appendices),[36] with the publication following in August 1996.[12] The Wheel of Time  author Robert Jordan had written a short endorsement for the cover that was influential in ensuring the book's and hence series' early success with fantasy readers.[37] Blood of the Dragon, a pre-release sample novella drawn from Daenerys's chapters, went on to win the 1997 Hugo Award for Best Novella.[38]\n"
     ]
    }
   ],
   "source": [
    "print('Gensim Summary: ')\n",
    "print (gensim_summarize(article_text,ratio=0.01))"
   ]
  },
  {
   "cell_type": "code",
   "execution_count": 10,
   "metadata": {},
   "outputs": [
    {
     "output_type": "stream",
     "name": "stdout",
     "text": [
      "Summa Summary: \n",
      "After A Game of Thrones, A Clash of Kings, and A Storm of Swords, Martin originally intended to write three more books.[26] The fourth book, tentatively titled A Dance with Dragons, was to focus on Daenerys Targaryen's return to Westeros and the associated conflicts.[33] Martin wanted to set this story five years after A Storm of Swords so that the younger characters could grow older and the dragons grow larger.[42] Agreeing with his publishers early on that the new book should be shorter than A Storm of Swords, Martin set out to write the novel closer in length to A Clash of Kings.[36] A long prologue was to establish what had happened in the meantime, initially just as one chapter of Aeron Damphair on the Iron Islands at the Kingsmoot.\n"
     ]
    }
   ],
   "source": [
    "print('Summa Summary: ')\n",
    "print (summa_summarize(article_text,ratio=0.01))"
   ]
  },
  {
   "cell_type": "code",
   "execution_count": null,
   "metadata": {},
   "outputs": [],
   "source": []
  }
 ],
 "metadata": {
  "kernelspec": {
   "name": "pythonjvsc74a57bd04755cfa067f26eb33efbf13270165d7074d9f3dafb96ff0a1dac36269ac1245e",
   "display_name": "Python 3.8.2  ('.text-summariser-env': venv)"
  },
  "language_info": {
   "codemirror_mode": {
    "name": "ipython",
    "version": 3
   },
   "file_extension": ".py",
   "mimetype": "text/x-python",
   "name": "python",
   "nbconvert_exporter": "python",
   "pygments_lexer": "ipython3",
   "version": "3.8.2"
  },
  "metadata": {
   "interpreter": {
    "hash": "4755cfa067f26eb33efbf13270165d7074d9f3dafb96ff0a1dac36269ac1245e"
   }
  }
 },
 "nbformat": 4,
 "nbformat_minor": 4
}