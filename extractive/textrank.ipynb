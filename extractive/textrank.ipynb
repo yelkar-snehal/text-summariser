{
 "cells": [
  {
   "cell_type": "code",
   "execution_count": 1,
   "metadata": {},
   "outputs": [
    {
     "output_type": "stream",
     "name": "stdout",
     "text": [
      "Requirement already satisfied: gensim==3.8.3 in /Volumes/DATA/text-summariser/.text-summariser-env/lib/python3.9/site-packages (3.8.3)\n",
      "Requirement already satisfied: numpy>=1.11.3 in /Volumes/DATA/text-summariser/.text-summariser-env/lib/python3.9/site-packages (from gensim==3.8.3) (1.20.3)\n",
      "Requirement already satisfied: scipy>=0.18.1 in /Volumes/DATA/text-summariser/.text-summariser-env/lib/python3.9/site-packages (from gensim==3.8.3) (1.7.0)\n",
      "Requirement already satisfied: six>=1.5.0 in /Volumes/DATA/text-summariser/.text-summariser-env/lib/python3.9/site-packages (from gensim==3.8.3) (1.16.0)\n",
      "Requirement already satisfied: smart-open>=1.8.1 in /Volumes/DATA/text-summariser/.text-summariser-env/lib/python3.9/site-packages (from gensim==3.8.3) (5.1.0)\n"
     ]
    }
   ],
   "source": [
    "!pip install gensim==3.8.3"
   ]
  },
  {
   "cell_type": "code",
   "execution_count": 2,
   "metadata": {},
   "outputs": [
    {
     "output_type": "stream",
     "name": "stdout",
     "text": [
      "Requirement already satisfied: summa in /Volumes/DATA/text-summariser/.text-summariser-env/lib/python3.9/site-packages (1.2.0)\nRequirement already satisfied: scipy>=0.19 in /Volumes/DATA/text-summariser/.text-summariser-env/lib/python3.9/site-packages (from summa) (1.7.0)\nRequirement already satisfied: numpy<1.23.0,>=1.16.5 in /Volumes/DATA/text-summariser/.text-summariser-env/lib/python3.9/site-packages (from scipy>=0.19->summa) (1.20.3)\n"
     ]
    }
   ],
   "source": [
    "!pip install summa"
   ]
  },
  {
   "cell_type": "code",
   "execution_count": 3,
   "metadata": {},
   "outputs": [
    {
     "output_type": "stream",
     "name": "stdout",
     "text": [
      "Requirement already satisfied: bs4 in /Volumes/DATA/text-summariser/.text-summariser-env/lib/python3.9/site-packages (0.0.1)\nRequirement already satisfied: beautifulsoup4 in /Volumes/DATA/text-summariser/.text-summariser-env/lib/python3.9/site-packages (from bs4) (4.9.3)\nRequirement already satisfied: soupsieve>1.2 in /Volumes/DATA/text-summariser/.text-summariser-env/lib/python3.9/site-packages (from beautifulsoup4->bs4) (2.2.1)\n"
     ]
    }
   ],
   "source": [
    "!pip install bs4"
   ]
  },
  {
   "cell_type": "code",
   "execution_count": 4,
   "metadata": {},
   "outputs": [
    {
     "output_type": "stream",
     "name": "stdout",
     "text": [
      "Requirement already satisfied: nltk in /Volumes/DATA/text-summariser/.text-summariser-env/lib/python3.9/site-packages (3.6.2)\nRequirement already satisfied: regex in /Volumes/DATA/text-summariser/.text-summariser-env/lib/python3.9/site-packages (from nltk) (2021.4.4)\nRequirement already satisfied: click in /Volumes/DATA/text-summariser/.text-summariser-env/lib/python3.9/site-packages (from nltk) (8.0.1)\nRequirement already satisfied: tqdm in /Volumes/DATA/text-summariser/.text-summariser-env/lib/python3.9/site-packages (from nltk) (4.61.1)\nRequirement already satisfied: joblib in /Volumes/DATA/text-summariser/.text-summariser-env/lib/python3.9/site-packages (from nltk) (1.0.1)\n"
     ]
    }
   ],
   "source": [
    "!pip install nltk"
   ]
  },
  {
   "cell_type": "code",
   "execution_count": 5,
   "metadata": {},
   "outputs": [
    {
     "output_type": "stream",
     "name": "stdout",
     "text": [
      "Requirement already satisfied: lxml in /Volumes/DATA/text-summariser/.text-summariser-env/lib/python3.9/site-packages (4.6.3)\n"
     ]
    }
   ],
   "source": [
    "!pip install lxml"
   ]
  },
  {
   "cell_type": "code",
   "execution_count": 6,
   "metadata": {},
   "outputs": [],
   "source": [
    "# Wikipedia scraper\n",
    "import bs4 as bs  \n",
    "import urllib.request  \n",
    "import re\n",
    "import nltk\n",
    "from gensim.summarization import summarize as gensim_summarize\n",
    "from summa.summarizer import summarize as summa_summarize"
   ]
  },
  {
   "cell_type": "code",
   "execution_count": 7,
   "metadata": {},
   "outputs": [],
   "source": [
    "import ssl\n",
    "ssl._create_default_https_context = ssl._create_unverified_context"
   ]
  },
  {
   "cell_type": "code",
   "execution_count": 8,
   "metadata": {},
   "outputs": [],
   "source": [
    "data = urllib.request.urlopen('https://en.wikipedia.org/wiki/A_Song_of_Ice_and_Fire')  "
   ]
  },
  {
   "cell_type": "code",
   "execution_count": 9,
   "metadata": {},
   "outputs": [],
   "source": [
    "article = data.read()\n",
    "\n",
    "parsed_article = bs.BeautifulSoup(article,'lxml')\n",
    "\n",
    "paragraphs = parsed_article.find_all('p')"
   ]
  },
  {
   "cell_type": "code",
   "execution_count": 10,
   "metadata": {},
   "outputs": [],
   "source": [
    "article_text = ''\n",
    "\n",
    "for p in paragraphs:  \n",
    "    article_text += p.text"
   ]
  },
  {
   "cell_type": "code",
   "execution_count": 11,
   "metadata": {},
   "outputs": [
    {
     "output_type": "stream",
     "name": "stdout",
     "text": [
      "Gensim Summary: \nThe revised finished manuscript for A Game of Thrones was 1088 pages long (without the appendices),[36] with the publication following in August 1996.[12] The Wheel of Time  author Robert Jordan had written a short endorsement for the cover that was influential in ensuring the book's and hence series' early success with fantasy readers.[37] Blood of the Dragon, a pre-release sample novella drawn from Daenerys's chapters, went on to win the 1997 Hugo Award for Best Novella.[38]\n"
     ]
    }
   ],
   "source": [
    "print('Gensim Summary: ')\n",
    "print (gensim_summarize(article_text,ratio=0.01))"
   ]
  },
  {
   "cell_type": "code",
   "execution_count": 12,
   "metadata": {},
   "outputs": [
    {
     "output_type": "stream",
     "name": "stdout",
     "text": [
      "Summa Summary: \n",
      "After A Game of Thrones, A Clash of Kings, and A Storm of Swords, Martin originally intended to write three more books.[26] The fourth book, tentatively titled A Dance with Dragons, was to focus on Daenerys Targaryen's return to Westeros and the associated conflicts.[33] Martin wanted to set this story five years after A Storm of Swords so that the younger characters could grow older and the dragons grow larger.[42] Agreeing with his publishers early on that the new book should be shorter than A Storm of Swords, Martin set out to write the novel closer in length to A Clash of Kings.[36] A long prologue was to establish what had happened in the meantime, initially just as one chapter of Aeron Damphair on the Iron Islands at the Kingsmoot.\n"
     ]
    }
   ],
   "source": [
    "print('Summa Summary: ')\n",
    "print (summa_summarize(article_text,ratio=0.01))"
   ]
  },
  {
   "cell_type": "code",
   "execution_count": null,
   "metadata": {},
   "outputs": [],
   "source": []
  }
 ],
 "metadata": {
  "kernelspec": {
   "name": "python3",
   "display_name": "Python 3.9.1 64-bit ('.text-summariser-env': venv)"
  },
  "language_info": {
   "codemirror_mode": {
    "name": "ipython",
    "version": 3
   },
   "file_extension": ".py",
   "mimetype": "text/x-python",
   "name": "python",
   "nbconvert_exporter": "python",
   "pygments_lexer": "ipython3",
   "version": "3.9.1"
  },
  "metadata": {
   "interpreter": {
    "hash": "4755cfa067f26eb33efbf13270165d7074d9f3dafb96ff0a1dac36269ac1245e"
   }
  },
  "interpreter": {
   "hash": "6e0729412a5ac291da4dc35a08d48e8e600a68adcb5f2283982c4ccf9078075a"
  }
 },
 "nbformat": 4,
 "nbformat_minor": 4
}