{
 "cells": [
  {
   "cell_type": "code",
   "execution_count": 1,
   "metadata": {},
   "outputs": [
    {
     "name": "stdout",
     "output_type": "stream",
     "text": [
      "Text summary with NLTK: Word frequency Algorithm\n"
     ]
    }
   ],
   "source": [
    "print('Text summary with NLTK: Word frequency Algorithm')"
   ]
  },
  {
   "cell_type": "code",
   "execution_count": 2,
   "metadata": {},
   "outputs": [
    {
     "name": "stdout",
     "output_type": "stream",
     "text": [
      "/opt/anaconda3/bin/python\n"
     ]
    }
   ],
   "source": [
    "import sys\n",
    "print(sys.executable)"
   ]
  },
  {
   "cell_type": "code",
   "execution_count": 3,
   "metadata": {},
   "outputs": [
    {
     "name": "stdout",
     "output_type": "stream",
     "text": [
      "Requirement already satisfied: pip in /Users/snehalyelkar/Documents/development/python-apps/text-summariser/.text-summariser-env/lib/python3.8/site-packages (21.0.1)\n"
     ]
    }
   ],
   "source": [
    "!pip install --upgrade pip"
   ]
  },
  {
   "cell_type": "code",
   "execution_count": 4,
   "metadata": {},
   "outputs": [
    {
     "name": "stdout",
     "output_type": "stream",
     "text": [
      "Requirement already satisfied: beautifulsoup4 in /Users/snehalyelkar/Documents/development/python-apps/text-summariser/.text-summariser-env/lib/python3.8/site-packages (4.9.3)\n",
      "Requirement already satisfied: soupsieve>1.2 in /Users/snehalyelkar/Documents/development/python-apps/text-summariser/.text-summariser-env/lib/python3.8/site-packages (from beautifulsoup4) (2.2.1)\n"
     ]
    }
   ],
   "source": [
    "# web scrapping dependencies\n",
    "!pip install beautifulsoup4"
   ]
  },
  {
   "cell_type": "code",
   "execution_count": 5,
   "metadata": {},
   "outputs": [],
   "source": [
    "# dependencies for text processing"
   ]
  },
  {
   "cell_type": "code",
   "execution_count": 6,
   "metadata": {},
   "outputs": [
    {
     "name": "stdout",
     "output_type": "stream",
     "text": [
      "Requirement already satisfied: nltk in /Users/snehalyelkar/Documents/development/python-apps/text-summariser/.text-summariser-env/lib/python3.8/site-packages (3.6.1)\n",
      "Requirement already satisfied: click in /Users/snehalyelkar/Documents/development/python-apps/text-summariser/.text-summariser-env/lib/python3.8/site-packages (from nltk) (7.1.2)\n",
      "Requirement already satisfied: joblib in /Users/snehalyelkar/Documents/development/python-apps/text-summariser/.text-summariser-env/lib/python3.8/site-packages (from nltk) (1.0.1)\n",
      "Requirement already satisfied: regex in /Users/snehalyelkar/Documents/development/python-apps/text-summariser/.text-summariser-env/lib/python3.8/site-packages (from nltk) (2021.4.4)\n",
      "Requirement already satisfied: tqdm in /Users/snehalyelkar/Documents/development/python-apps/text-summariser/.text-summariser-env/lib/python3.8/site-packages (from nltk) (4.60.0)\n"
     ]
    }
   ],
   "source": [
    "!pip install nltk"
   ]
  },
  {
   "cell_type": "code",
   "execution_count": 7,
   "metadata": {},
   "outputs": [],
   "source": [
    "import bs4 as bs\n",
    "import urllib.request\n",
    "import re\n",
    "import nltk"
   ]
  },
  {
   "cell_type": "code",
   "execution_count": 8,
   "metadata": {},
   "outputs": [
    {
     "name": "stdout",
     "output_type": "stream",
     "text": [
      "first 100 characters of the article: b'<!DOCTYPE html>\\n<html class=\"client-nojs\" lang=\"en\" dir=\"ltr\">\\n<head>\\n<meta charset=\"UTF-8\"/>\\n<title'\n"
     ]
    }
   ],
   "source": [
    "# fetch data content from url and read\n",
    "fetched_data = urllib.request.urlopen('https://en.wikipedia.org/wiki/A_Game_of_Thrones')\n",
    "\n",
    "article = fetched_data.read()\n",
    "print('first {0} characters of the article: {1}'.format(100, article[:100]))"
   ]
  },
  {
   "cell_type": "code",
   "execution_count": 9,
   "metadata": {},
   "outputs": [],
   "source": [
    "# parse article with either html parser/lxml/xml\n",
    "parsed_article = bs.BeautifulSoup(article,'html.parser')"
   ]
  },
  {
   "cell_type": "code",
   "execution_count": 10,
   "metadata": {},
   "outputs": [],
   "source": [
    "# select all <p> tags, discard the rest\n",
    "article_paragraphs = parsed_article.find_all('p')"
   ]
  },
  {
   "cell_type": "code",
   "execution_count": 11,
   "metadata": {},
   "outputs": [
    {
     "name": "stdout",
     "output_type": "stream",
     "text": [
      "<class 'bs4.element.ResultSet'>\n"
     ]
    }
   ],
   "source": [
    "print(type(article_paragraphs))"
   ]
  },
  {
   "cell_type": "code",
   "execution_count": 12,
   "metadata": {},
   "outputs": [
    {
     "name": "stdout",
     "output_type": "stream",
     "text": [
      "first 100 characters of the article_conetnt: A Game of Thrones is the first novel in A Song of Ice and Fire, a series of fantasy novels by the Am\n"
     ]
    }
   ],
   "source": [
    "article_content = ''.join([paragraph.text for paragraph in article_paragraphs])\n",
    "print('first {0} characters of the article_conetnt: {1}'.format(100, article_content[:100]))"
   ]
  },
  {
   "cell_type": "code",
   "execution_count": 13,
   "metadata": {},
   "outputs": [
    {
     "name": "stdout",
     "output_type": "stream",
     "text": [
      "first 100 characters of the article_conetnt: A Game of Thrones is the first novel in A Song of Ice and Fire, a series of fantasy novels by the Am\n",
      "last 100 characters of the article_conetnt: mber 5, 2019, the BBC News listed A Game of Thrones on its list of the 100 most influential novels. \n"
     ]
    }
   ],
   "source": [
    "# replace sqaure brackets w/w/o references: [1],[] w/ extra spaces\n",
    "article_content = re.sub(r'\\[[0-9]*\\]', ' ', article_content)\n",
    "# replace extra spaces\n",
    "article_content = re.sub(r'\\s+', ' ', article_content)\n",
    "# replace digits and special char w/ extra spaces\n",
    "formatted_article_content = re.sub('[^a-zA-Z]', ' ', article_content )\n",
    "formatted_article_content = re.sub(r'\\s+', ' ', article_content)\n",
    "\n",
    "print('first {0} characters of the article_conetnt: {1}'.format(100, article_content[:100]))\n",
    "print('last {0} characters of the article_conetnt: {1}'.format(100, article_content[-100:]))"
   ]
  },
  {
   "cell_type": "code",
   "execution_count": 14,
   "metadata": {},
   "outputs": [],
   "source": [
    "# get sentences w/ nltk\n",
    "sentence_list = nltk.sent_tokenize(article_content)\n",
    "stopwords = nltk.corpus.stopwords.words('english')"
   ]
  },
  {
   "cell_type": "code",
   "execution_count": 15,
   "metadata": {},
   "outputs": [
    {
     "name": "stdout",
     "output_type": "stream",
     "text": [
      "first 5 sentences of the sentence_list: ['A Game of Thrones is the first novel in A Song of Ice and Fire, a series of fantasy novels by the American author George R. R. Martin.', 'It was first published on August 1, 1996.', 'The novel won the 1997 Locus Award and was nominated for both the 1997 Nebula Award and the 1997 World Fantasy Award.', 'The novella Blood of the Dragon, comprising the Daenerys Targaryen chapters from the novel, won the 1997 Hugo Award for Best Novella.', 'In January 2011, the novel became a New York Times Bestseller and reached No.']\n"
     ]
    }
   ],
   "source": [
    "print('first {0} sentences of the sentence_list: {1}'.format(5, sentence_list[:5]))\n",
    "# print(len(sentence_list))"
   ]
  },
  {
   "cell_type": "code",
   "execution_count": 16,
   "metadata": {},
   "outputs": [],
   "source": [
    "# find the frequency of occurrence of each word excluding stop words\n",
    "def create_word_frequency_table(text) -> dict:\n",
    "    # stopwords to ignore\n",
    "    stop_words = set(stopwords)\n",
    "    # get words from the provided text string\n",
    "    words = nltk.word_tokenize(text)\n",
    "    # normalise w/ stemmer to avoid redundant meanings\n",
    "    ps = nltk.stem.PorterStemmer()\n",
    "    \n",
    "    # create word frequencies\n",
    "    # skip stop words\n",
    "    # increase value/freq on each \n",
    "    # successful key search iteration\n",
    "    word_frequency_table = {}\n",
    "    for word in words:\n",
    "        word = ps.stem(word)\n",
    "        if word in stop_words:\n",
    "            continue\n",
    "        if word in word_frequency_table:\n",
    "            word_frequency_table[word] += 1\n",
    "        else:\n",
    "            word_frequency_table[word] = 1\n",
    "    \n",
    "    return word_frequency_table"
   ]
  },
  {
   "cell_type": "code",
   "execution_count": 17,
   "metadata": {},
   "outputs": [],
   "source": [
    "# calc frequency of words in each sentence, exclude stop words\n",
    "# calc sentence score by adding up frequency of its words\n",
    "def calc_sentence_scores(senetence_list, word_frequency_table) -> dict:\n",
    "    sentence_scores = {}\n",
    "\n",
    "    for sentence in senetence_list:\n",
    "        \n",
    "        num_of_words = len(nltk.word_tokenize(sentence))\n",
    "        \n",
    "        for word in word_frequency_table:\n",
    "            if word in sentence.lower():\n",
    "                if sentence[:10] in sentence_scores:\n",
    "                    sentence_scores[sentence[:10]] += word_frequency_table[word]\n",
    "                else:\n",
    "                    sentence_scores[sentence[:10]] = word_frequency_table[word]\n",
    "\n",
    "    return sentence_scores"
   ]
  },
  {
   "cell_type": "code",
   "execution_count": 18,
   "metadata": {},
   "outputs": [],
   "source": [
    "# calc avg sentence score of the available scores\n",
    "def find_threshold_score(sentence_scores) -> int:\n",
    "    return sum(sentence_scores.values()) / len(sentence_scores)"
   ]
  },
  {
   "cell_type": "code",
   "execution_count": 19,
   "metadata": {},
   "outputs": [],
   "source": [
    "# concatenate sentences whose score is greater than the provided threshold\n",
    "def generate_summary(sentence_list, sentence_scores, threshold):\n",
    "    return ''.join([sentence + ' ' for sentence in sentence_list if sentence[:10] in sentence_scores and sentence_scores[sentence[:10]] > threshold])"
   ]
  },
  {
   "cell_type": "code",
   "execution_count": 20,
   "metadata": {},
   "outputs": [
    {
     "name": "stdout",
     "output_type": "stream",
     "text": [
      "Summary:\n",
      " A Game of Thrones is the first novel in A Song of Ice and Fire, a series of fantasy novels by the American author George R. R. Martin. The novel won the 1997 Locus Award and was nominated for both the 1997 Nebula Award and the 1997 World Fantasy Award. In the novel, recounting events from various points of view, Martin introduces the plot-lines of the noble houses of Westeros, the Wall, and the Targaryens. The novel has inspired several spin-off works, including several games. It is also the namesake and basis for the first season of Game of Thrones, an HBO television series that premiered in April 2011. A Game of Thrones follows three principal storylines simultaneously. Upon the death of Lord Jon Arryn, the principal advisor to King Robert Baratheon, Robert recruits his childhood friend Eddard \"Ned\" Stark, now Lord of the North, to replace Arryn as Hand of the King, and to betroth his daughter Sansa to Robert's son Joffrey. Shortly thereafter, Ned's son Bran discovers Cersei having sex with her twin brother Jaime Lannister, who throws Bran from the tower to conceal their affair, leaving him comatose and paralyzing his legs. Ned leaves his castle Winterfell and departs for the capital city, King's Landing, bringing along his daughters Sansa and Arya. Upon arriving in King's Landing to take his post as Hand, Ned finds that Robert is an ineffective king whose only interests are hunting, drinking and womanizing. At Winterfell, an assassin attempts to kill Bran while he is unconscious, and Ned's wife Catelyn travels to King's Landing to bring word to Ned. Catelyn's childhood friend, Petyr \"Littlefinger\" Baelish, implicates Tyrion Lannister, the dwarf brother of Cersei and Jaime, in the assassination attempt. En route back to Winterfell, Catelyn encounters Tyrion by chance, arrests him, and takes him to stand trial for the attempt on Bran's life. In retaliation for Tyrion's abduction, his father Lord Tywin Lannister sends soldiers to raid the Riverlands, Catelyn's home region. Ned investigates Jon Arryn's death and eventually discovers that Robert's legal heirs, including Joffrey, are in fact Cersei's children by Jaime, and that Jon Arryn was killed to conceal his discovery of their incest. Ned offers Cersei a chance to flee before he informs Robert, but she uses this chance to arrange Robert's death in a hunting accident and install Joffrey on the throne. Ned prepares to send his daughters away from King's Landing and enlists Littlefinger's help to challenge Joffrey's claim; but Littlefinger betrays him, resulting in Ned's arrest. Ned's eldest son Robb marches his army south in response to his father's arrest, and in order to relieve the threat on the Riverlands. When Ned is executed, Robb's followers declare the North's independence from the Seven Kingdoms, proclaiming Robb \"King in the North\". The prologue of the novel introduces the Wall: an ancient barrier of stone, ice, and magic, hundreds of feet high and hundreds of miles long, shielding the Seven Kingdoms from the northern wilderness. The Wall is manned by the Night's Watch: an order of warriors sworn to serve there for life, defending the realm from the fabled Others, an ancient and hostile inhuman race, as well as from the human \"wildlings\" who live north of the Wall. Jon Snow, Ned's bastard son, is inspired by his uncle, Benjen Stark, to join the Night's Watch, but becomes disillusioned when he discovers that its primary function is as a penal colony. Jon is appointed steward to the leader of the Watch, Lord Commander Jeor Mormont, making him a potential successor to Mormont. When word of his father's execution reaches Jon, he attempts to join Robb against the Lannisters, but is persuaded to remain loyal to the Watch. Mormont then declares his intention to march north to find Benjen, dead or alive, and to investigate rumors of a \"King-Beyond-the-Wall\" uniting the wildlings. Across the sea to the east of Westeros live the exiled prince Viserys and princess Daenerys, children of the late \"mad king\" Aerys Targaryen, who ruled Westeros before being overthrown by Robert Baratheon. Viserys betroths Daenerys to Khal Drogo, a warlord of the nomadic Dothraki, in exchange for the use of Drogo's army to reclaim the throne of Westeros. Initially terrified of her new husband and his people, Daenerys eventually embraces her role as Drogo's queen. Drogo, however, shows little interest in conquering Westeros, and an impatient Viserys tries to browbeat his sister into coercing Drogo. An assassin seeking King Robert's favor attempts to poison Daenerys and her unborn child, finally convincing Drogo to conquer Westeros. While sacking villages to fund the invasion of Westeros, Drogo is badly wounded, and Daenerys commands the captive folk healer Mirri Maz Duur to save him. The healer, angered by the Dothraki raids against her people, sacrifices Daenerys' unborn child to power the spell to save Drogo's life, which restores Drogo's physical health but leaves him in a persistent vegetative state. In Westeros, Ned ultimately decides to venture south with Robert, leaving much of his family in Winterfell. At the Wall, Jon wrestles with the predicament of joining his half-brother Robb in rebellion or staying with his sworn brothers in the Night's Watch. Catelyn initially is overwhelmed by grief and does not leave Bran's bedside while he is comatose, ignoring her political responsibilities, choosing family over duty. But soon after, Catelyn leaves Bran and her family for Kings Landing to inform Ned of potential Lannister treason, effectively displaying a more duty fulfilling role. Martin reflects: \"I think the battle between good and evil is fought largely within the individual human heart, by the decisions that we make. It's not like evil dresses up in black clothing and you know, they're really ugly\". Likewise, Daenerys' storyline develops around the Targaryen's upheaval in Westeros, in which the Starks played a significant role. You have to be able to see the struggle from both sides, because real human beings in a war have all these processes of self-justification, telling ourselves why what we're doing is the right thing. In the later books, certain viewpoint characters are added while others are removed. Martin acknowledges several authors who lent their time and expertise during the writing of the novel: Sage Walker, Martin Wright, Melinda Snodgrass, Carl Keim, Bruce Baugh, Tim O'Brien, Roger Zelazny, Jane Lindskold, and Laura Mixon. Its official publication date was earlier than that of the US Bantam edition, but Bantam went to print several months earlier to hand out copies at the American Booksellers Association (ABA). The novel has been translated into many languages and published in multiple editions in hardcover, paperback, e-book, and audio book form. A Game of Thrones and the subsequent novels in the A Song of Ice and Fire series have been adapted into an HBO television series, a comic book series, several card games, board games, video games, and other media. A Game of Thrones has received critical acclaim. Writing in The Washington Post, John H. Riskind commented that \"many fans of sword-and-sorcery will enjoy the epic scope of this book\" but felt that the book \"suffers from one-dimensional characters and less than memorable imagery.\" Phyllis Eisenstein of the Chicago Sun-Times wrote that, although the book uses many generic fantasy tropes, Martin's approach is \"so refreshingly human and intimate that it transcends them.\" John Prior, writing in the San Diego Union-Tribune, called Martin's writing \"strong and imaginative, with plenty of Byzantine intrigue and dynastic struggle\", and compared it to Robert Jordan's Wheel of Time books, \"though much darker, with no comedy or romance to relieve the nastiness.\" \n"
     ]
    }
   ],
   "source": [
    "word_frequency_table = create_word_frequency_table(formatted_article_content)\n",
    "sentence_scores = calc_sentence_scores(sentence_list, word_frequency_table)\n",
    "threshold = find_threshold_score(sentence_scores)\n",
    "print('Summary:\\n', generate_summary(sentence_list, sentence_scores, threshold))"
   ]
  },
  {
   "cell_type": "code",
   "execution_count": null,
   "metadata": {},
   "outputs": [],
   "source": []
  }
 ],
 "metadata": {
  "kernelspec": {
   "display_name": ".text-summariser-env",
   "language": "python",
   "name": ".text-summariser-env"
  },
  "language_info": {
   "codemirror_mode": {
    "name": "ipython",
    "version": 3
   },
   "file_extension": ".py",
   "mimetype": "text/x-python",
   "name": "python",
   "nbconvert_exporter": "python",
   "pygments_lexer": "ipython3",
   "version": "3.7.6"
  }
 },
 "nbformat": 4,
 "nbformat_minor": 4
}
